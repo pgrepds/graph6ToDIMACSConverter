{
    "cells": [
        {
            "cell_type": "code",
            "execution_count": 1,
            "source": [
                " # type: ignore"
            ],
            "outputs": [],
            "metadata": {}
        },
        {
            "cell_type": "code",
            "execution_count": 2,
            "source": [
                "def convert(graph6String):\n",
                "    G=Graph(graph6String)\n",
                "    dimacsString = \"p edge {} {}\\n\".format(G.order(), G.size())\n",
                "    template = \"e {} {}\\n\"\n",
                "    for e in G.edges():\n",
                "        dimacsString += template.format(e[0], e[1])\n",
                "    return dimacsString\n",
                "    \n",
                "def convertWithDescription(graph6String, description):\n",
                "    dimacsString = \"c \" + description + '\\n'\n",
                "    dimacsString += convert(graph6String)\n",
                "    return dimacsString\n",
                "\n",
                "def convertGraph6FileToDimacsFile(pathToGraph6, pathToDimacs):\n",
                "    graph6=open(pathToGraph6, 'r')\n",
                "    dimacs=open(pathToDimacs, 'a')\n",
                "    dimacs.write(convert(graph6.read()))\n",
                "    graph6.close()\n",
                "    dimacs.close()\n"
            ],
            "outputs": [],
            "metadata": {}
        }
    ],
    "metadata": {
        "orig_nbformat": 4,
        "language_info": {
            "name": "sage",
            "version": "3.9.7",
            "mimetype": "text/x-python",
            "codemirror_mode": {
                "name": "ipython",
                "version": 3
            },
            "pygments_lexer": "ipython3",
            "nbconvert_exporter": "python",
            "file_extension": ".py"
        },
        "kernelspec": {
            "name": "sagemath",
            "display_name": "SageMath 9.4",
            "language": "sage"
        }
    },
    "nbformat": 4,
    "nbformat_minor": 2
}